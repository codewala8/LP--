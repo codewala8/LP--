{
 "cells": [
  {
   "cell_type": "code",
   "execution_count": 1,
   "id": "e01b5a1b-f82e-4ae5-8699-3cf056016bd6",
   "metadata": {},
   "outputs": [
    {
     "name": "stdout",
     "output_type": "stream",
     "text": [
      "Path: [(0, 0), (1, 0), (2, 0), (2, 1), (2, 2), (3, 2), (3, 3), (3, 4), (4, 4)]\n"
     ]
    }
   ],
   "source": [
    "def heuristic(a, b):\n",
    "    # Manhattan distance\n",
    "    return abs(a[0] - b[0]) + abs(a[1] - b[1])\n",
    "\n",
    "def astar(grid, start, goal):\n",
    "    open_list = [start]\n",
    "    came_from = {}\n",
    "    g_score = {start: 0}\n",
    "    f_score = {start: heuristic(start, goal)}\n",
    "\n",
    "    while open_list:\n",
    "        # Choose node with lowest f_score\n",
    "        current = min(open_list, key=lambda x: f_score.get(x, float('inf')))\n",
    "        if current == goal:\n",
    "            # Reconstruct path\n",
    "            path = [current]\n",
    "            while current in came_from:\n",
    "                current = came_from[current]\n",
    "                path.append(current)\n",
    "            path.reverse()\n",
    "            return path\n",
    "\n",
    "        open_list.remove(current)\n",
    "        x, y = current\n",
    "        for dx, dy in [(-1,0), (1,0), (0,-1), (0,1)]:\n",
    "            neighbor = (x + dx, y + dy)\n",
    "            if 0 <= neighbor[0] < len(grid) and 0 <= neighbor[1] < len(grid[0]):\n",
    "                if grid[neighbor[0]][neighbor[1]] == 1:\n",
    "                    continue  # obstacle\n",
    "                tentative_g = g_score[current] + 1\n",
    "                if tentative_g < g_score.get(neighbor, float('inf')):\n",
    "                    came_from[neighbor] = current\n",
    "                    g_score[neighbor] = tentative_g\n",
    "                    f_score[neighbor] = tentative_g + heuristic(neighbor, goal)\n",
    "                    if neighbor not in open_list:\n",
    "                        open_list.append(neighbor)\n",
    "    return None\n",
    "\n",
    "# Simple 5x5 grid example\n",
    "grid = [\n",
    "    [0, 0, 0, 0, 0],\n",
    "    [0, 1, 1, 1, 0],\n",
    "    [0, 0, 0, 1, 0],\n",
    "    [0, 1, 0, 0, 0],\n",
    "    [0, 0, 0, 1, 0]\n",
    "]\n",
    "\n",
    "start = (0, 0)\n",
    "goal = (4, 4)\n",
    "\n",
    "path = astar(grid, start, goal)\n",
    "print(\"Path:\", path)\n"
   ]
  },
  {
   "cell_type": "code",
   "execution_count": null,
   "id": "4f9492f9-a918-40f6-b0e2-8e0c58acad61",
   "metadata": {},
   "outputs": [],
   "source": []
  }
 ],
 "metadata": {
  "kernelspec": {
   "display_name": "Python 3 (ipykernel)",
   "language": "python",
   "name": "python3"
  },
  "language_info": {
   "codemirror_mode": {
    "name": "ipython",
    "version": 3
   },
   "file_extension": ".py",
   "mimetype": "text/x-python",
   "name": "python",
   "nbconvert_exporter": "python",
   "pygments_lexer": "ipython3",
   "version": "3.12.4"
  }
 },
 "nbformat": 4,
 "nbformat_minor": 5
}
