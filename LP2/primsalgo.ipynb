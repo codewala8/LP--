{
 "cells": [
  {
   "cell_type": "code",
   "execution_count": 1,
   "id": "058a46d4-73a0-4b62-9c34-5f533dddcbe9",
   "metadata": {},
   "outputs": [
    {
     "name": "stdout",
     "output_type": "stream",
     "text": [
      "0-1 (cost: 2)\n",
      "1-2 (cost: 3)\n",
      "1-4 (cost: 5)\n",
      "0-3 (cost: 6)\n"
     ]
    }
   ],
   "source": [
    "import heapq\n",
    "\n",
    "def prim(graph):\n",
    "    V, vis, res, q = len(graph), set(), [], [(0, 0, -1)]\n",
    "    while q:\n",
    "        w, u, p = heapq.heappop(q)\n",
    "        if u in vis: continue\n",
    "        vis.add(u)\n",
    "        if p != -1: res.append((p, u, w))\n",
    "        for v, wt in graph[u]:\n",
    "            if v not in vis: heapq.heappush(q, (wt, v, u))\n",
    "    return res\n",
    "\n",
    "graph = {\n",
    "    0: [(1, 2), (3, 6)],\n",
    "    1: [(0, 2), (2, 3), (3, 8), (4, 5)],\n",
    "    2: [(1, 3), (4, 7)],\n",
    "    3: [(0, 6), (1, 8), (4, 9)],\n",
    "    4: [(1, 5), (2, 7), (3, 9)]\n",
    "}\n",
    "\n",
    "for u, v, w in prim(graph):\n",
    "    print(f\"{u}-{v} (cost: {w})\")\n"
   ]
  },
  {
   "cell_type": "code",
   "execution_count": null,
   "id": "f8ce5c67-3b51-4b37-bba6-a932aec306fe",
   "metadata": {},
   "outputs": [],
   "source": []
  }
 ],
 "metadata": {
  "kernelspec": {
   "display_name": "Python 3 (ipykernel)",
   "language": "python",
   "name": "python3"
  },
  "language_info": {
   "codemirror_mode": {
    "name": "ipython",
    "version": 3
   },
   "file_extension": ".py",
   "mimetype": "text/x-python",
   "name": "python",
   "nbconvert_exporter": "python",
   "pygments_lexer": "ipython3",
   "version": "3.12.4"
  }
 },
 "nbformat": 4,
 "nbformat_minor": 5
}
